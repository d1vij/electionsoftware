{
 "cells": [
  {
   "cell_type": "code",
   "id": "initial_id",
   "metadata": {
    "collapsed": true,
    "ExecuteTime": {
     "end_time": "2025-01-20T13:47:50.307693Z",
     "start_time": "2025-01-20T13:47:47.030795Z"
    }
   },
   "source": [
    "import tkinter\n",
    "from tkinter import messagebox\n",
    "a = tkinter.Tk()\n",
    "print(messagebox.askyesno(message = \"yes no yes no \"))\n",
    "\n",
    "a.mainloop()"
   ],
   "outputs": [
    {
     "name": "stdout",
     "output_type": "stream",
     "text": [
      "False\n"
     ]
    }
   ],
   "execution_count": 4
  },
  {
   "metadata": {
    "ExecuteTime": {
     "end_time": "2025-01-20T14:13:57.520549Z",
     "start_time": "2025-01-20T14:13:57.516507Z"
    }
   },
   "cell_type": "code",
   "source": [
    "import datetime\n",
    "datetime.datetime.now().strftime(\"%I:%M:%S %p %d-%M-%Y\")"
   ],
   "id": "e643830e4df388b0",
   "outputs": [
    {
     "data": {
      "text/plain": [
       "'07:43:57 PM 20-43-2025'"
      ]
     },
     "execution_count": 10,
     "metadata": {},
     "output_type": "execute_result"
    }
   ],
   "execution_count": 10
  },
  {
   "metadata": {
    "ExecuteTime": {
     "end_time": "2025-01-20T14:26:23.946304Z",
     "start_time": "2025-01-20T14:26:23.941698Z"
    }
   },
   "cell_type": "code",
   "source": [
    "import csv\n",
    "\n",
    "vote_count : dict[(str, str) : int] = {}\n",
    "\n",
    "def counter(name : str):\n",
    "    if name in vote_count.keys(): vote_count[name] += 1\n",
    "    else: vote_count[name] = 1\n",
    "\n",
    "\n",
    "with open(\"votes.csv\",\"r\",encoding = 'utf-8', newline='\\n') as file:\n",
    "    reader_ = csv.reader(file)\n",
    "\n",
    "\n",
    "\n",
    "    for row in reader_:\n",
    "        t = (row[0], row[1]) # name and post resp\n",
    "        counter(t)\n",
    "\n",
    "\n",
    "for (name,post),count in vote_count.items():\n",
    "    print(f\"{name} got voted for the post {post} : {count} times\")"
   ],
   "id": "312310b61e0f74b9",
   "outputs": [
    {
     "name": "stdout",
     "output_type": "stream",
     "text": [
      "shinchan got voted for the post head_boy : 2 times\n",
      "peppa pig got voted for the post post2 : 1 times\n",
      "gordon ramsey got voted for the post post2 : 1 times\n",
      "divij got voted for the post head_boy : 1 times\n"
     ]
    }
   ],
   "execution_count": 16
  },
  {
   "metadata": {
    "ExecuteTime": {
     "end_time": "2025-01-20T16:54:17.509535Z",
     "start_time": "2025-01-20T16:54:17.498307Z"
    }
   },
   "cell_type": "code",
   "source": [
    "class SomeException(BaseException):\n",
    "    \"\"\"HEHEHEE\"\"\"\n",
    "    ...\n",
    "\n",
    "raise SomeException()"
   ],
   "id": "18b37b09a48d2396",
   "outputs": [
    {
     "ename": "SomeException",
     "evalue": "HEHEHES",
     "output_type": "error",
     "traceback": [
      "\u001B[1;31m---------------------------------------------------------------------------\u001B[0m",
      "\u001B[1;31mSomeException\u001B[0m                             Traceback (most recent call last)",
      "Cell \u001B[1;32mIn[22], line 5\u001B[0m\n\u001B[0;32m      2\u001B[0m \u001B[38;5;250m    \u001B[39m\u001B[38;5;124;03m\"\"\"HEHEHEE\"\"\"\u001B[39;00m\n\u001B[0;32m      3\u001B[0m     \u001B[38;5;241m.\u001B[39m\u001B[38;5;241m.\u001B[39m\u001B[38;5;241m.\u001B[39m\n\u001B[1;32m----> 5\u001B[0m \u001B[38;5;28;01mraise\u001B[39;00m SomeException(\u001B[38;5;124m\"\u001B[39m\u001B[38;5;124mHEHEHES\u001B[39m\u001B[38;5;124m\"\u001B[39m)\n",
      "\u001B[1;31mSomeException\u001B[0m: HEHEHES"
     ]
    }
   ],
   "execution_count": 22
  }
 ],
 "metadata": {
  "kernelspec": {
   "display_name": "Python 3",
   "language": "python",
   "name": "python3"
  },
  "language_info": {
   "codemirror_mode": {
    "name": "ipython",
    "version": 2
   },
   "file_extension": ".py",
   "mimetype": "text/x-python",
   "name": "python",
   "nbconvert_exporter": "python",
   "pygments_lexer": "ipython2",
   "version": "2.7.6"
  }
 },
 "nbformat": 4,
 "nbformat_minor": 5
}
